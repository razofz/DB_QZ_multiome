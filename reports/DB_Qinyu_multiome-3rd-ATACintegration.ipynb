{
 "cells": [
  {
   "cell_type": "code",
   "execution_count": 24,
   "id": "81aca22a-8759-4c69-93b1-ff58148c2761",
   "metadata": {
    "slideshow": {
     "slide_type": "skip"
    },
    "tags": []
   },
   "outputs": [],
   "source": [
    "from IPython.core.interactiveshell import InteractiveShell\n",
    "InteractiveShell.ast_node_interactivity = \"all\"\n",
    "from IPython.display import Image\n",
    "from IPython.core.display import SVG\n",
    "from IPython.display import display, Markdown, HTML\n",
    "import IPython"
   ]
  },
  {
   "cell_type": "code",
   "execution_count": 5,
   "id": "4a478f31-1d76-4261-8f78-2df3426c2089",
   "metadata": {
    "slideshow": {
     "slide_type": "skip"
    },
    "tags": []
   },
   "outputs": [],
   "source": [
    "import pandas as pd\n",
    "import os"
   ]
  },
  {
   "cell_type": "markdown",
   "id": "bb49f832-d2ea-4204-8cb4-1eb675a98309",
   "metadata": {
    "slideshow": {
     "slide_type": "slide"
    },
    "tags": []
   },
   "source": [
    "# Multiome data (RNA+ATAC), Qinyu Zhang @ David Bryder lab\n",
    "\n",
    "Meeting 2022-02-10"
   ]
  },
  {
   "cell_type": "code",
   "execution_count": 1,
   "id": "d375a618-dca3-4391-8caa-6906069852f4",
   "metadata": {
    "slideshow": {
     "slide_type": "skip"
    },
    "tags": []
   },
   "outputs": [
    {
     "name": "stdout",
     "output_type": "stream",
     "text": [
      "\u001b[0m\u001b[01;34mpython\u001b[0m/   \u001b[01;35mumap-aggregated.svg\u001b[0m  \u001b[01;35mumap-rlsi-anchors-only.svg\u001b[0m\n",
      "Rhistory  \u001b[01;35mumap-harmony.svg\u001b[0m     \u001b[01;35mumap-rlsi-anchors.svg\u001b[0m\n"
     ]
    }
   ],
   "source": [
    "ls data/interim/adhoc/ATAC-integration/"
   ]
  },
  {
   "cell_type": "code",
   "execution_count": 2,
   "id": "90055bed-83f2-433c-9438-dbda95196999",
   "metadata": {
    "slideshow": {
     "slide_type": "skip"
    },
    "tags": []
   },
   "outputs": [
    {
     "name": "stdout",
     "output_type": "stream",
     "text": [
      "\u001b[0m\u001b[01;34mEPCR_LSKs.zarr\u001b[0m/  \u001b[01;34mmultiome.zarr\u001b[0m/       \u001b[01;35mumap-aggregated.svg\u001b[0m        \u001b[01;34mViable.zarr\u001b[0m/\n",
      "\u001b[01;35mEPCR_umap.svg\u001b[0m    scarf-projection.py  \u001b[01;35mumap-pPCA.svg\u001b[0m\n",
      "ipy-history      \u001b[01;35mTotal_umap.svg\u001b[0m       \u001b[01;35mumap-projection-scarf.svg\u001b[0m\n"
     ]
    }
   ],
   "source": [
    "ls data/interim/adhoc/ATAC-integration/python"
   ]
  },
  {
   "cell_type": "markdown",
   "id": "30e35f51-6b5e-40c5-a7da-78d3f98e3a89",
   "metadata": {
    "slideshow": {
     "slide_type": "slide"
    },
    "tags": []
   },
   "source": [
    "## Focus on ATAC integration and cluster annotation\n",
    "\n",
    "Agreed-upon focus on integrating the two samples' ATAC modalities, as well as annotating RNA clusters based on differentially expressed genes, with the help of BM genes and given list of 10 genes."
   ]
  },
  {
   "cell_type": "markdown",
   "id": "b1208ce0-c56b-45a6-806d-d39410deeb31",
   "metadata": {
    "slideshow": {
     "slide_type": "fragment"
    },
    "tags": []
   },
   "source": [
    "What was accomplished was integration of ATAC modalities, as well as formalising what has been done this far, which means higher reproducibility and the data being ready for annotation efforts."
   ]
  },
  {
   "cell_type": "markdown",
   "id": "7cca266d-7927-4dc6-9b3f-40b55c10824f",
   "metadata": {
    "slideshow": {
     "slide_type": "slide"
    },
    "tags": []
   },
   "source": [
    "### Naming\n",
    "\n",
    "The two samples:\n",
    "\n",
    "1. Immature (formerly EPCR)\n",
    "2. Diverse (Formerly Total, formerly Viable_RNA)"
   ]
  },
  {
   "cell_type": "markdown",
   "id": "fbc82666-8375-442c-a859-cba566747a68",
   "metadata": {
    "slideshow": {
     "slide_type": "slide"
    },
    "tags": []
   },
   "source": [
    "### Integration methods for ATAC tried\n",
    "\n",
    "- Harmony\n",
    "- Partial PCA\n",
    "- Projection\n",
    "    - k-Nearest Neighbours (Scarf)\n",
    "    - Reciprocal LSI (Signac/Seurat), aka anchor-based approach"
   ]
  },
  {
   "cell_type": "markdown",
   "id": "8c07de48-52fe-444f-b93f-16c7530cb2ba",
   "metadata": {
    "slideshow": {
     "slide_type": "slide"
    },
    "tags": []
   },
   "source": [
    "### Not yet integrated (baseline/starting point)"
   ]
  },
  {
   "cell_type": "code",
   "execution_count": 17,
   "id": "d2c44818-bbb5-49b3-94ce-5c27b25e2104",
   "metadata": {
    "slideshow": {
     "slide_type": "subslide"
    },
    "tags": []
   },
   "outputs": [
    {
     "data": {
      "text/markdown": [
       "![UMAP](data/interim/adhoc/ATAC-integration/umap-aggregated.svg)"
      ],
      "text/plain": [
       "<IPython.core.display.Markdown object>"
      ]
     },
     "metadata": {},
     "output_type": "display_data"
    }
   ],
   "source": [
    "md = '''![UMAP](data/interim/adhoc/ATAC-integration/umap-aggregated.svg)'''\n",
    "display(Markdown(md))"
   ]
  },
  {
   "cell_type": "code",
   "execution_count": 32,
   "id": "4a8e459a-3f0f-47d6-a068-d3ede536b5cd",
   "metadata": {
    "slideshow": {
     "slide_type": "skip"
    },
    "tags": []
   },
   "outputs": [
    {
     "data": {
      "text/html": [
       "<img src='data/interim/adhoc/ATAC-integration/umap-aggregated.svg', height='800px'>"
      ],
      "text/plain": [
       "<IPython.core.display.HTML object>"
      ]
     },
     "execution_count": 32,
     "metadata": {},
     "output_type": "execute_result"
    }
   ],
   "source": [
    "IPython.display.HTML(\"<img src='data/interim/adhoc/ATAC-integration/umap-aggregated.svg', height='80px'>\")"
   ]
  },
  {
   "cell_type": "markdown",
   "id": "9dd28b4d-dd2e-42dc-afa2-915e6a1389dc",
   "metadata": {
    "slideshow": {
     "slide_type": "slide"
    },
    "tags": []
   },
   "source": [
    "### rLSI/anchor-based approach"
   ]
  },
  {
   "cell_type": "code",
   "execution_count": 33,
   "id": "550b9624-3121-4baa-9ae4-51b15cc1594d",
   "metadata": {
    "slideshow": {
     "slide_type": "subslide"
    },
    "tags": []
   },
   "outputs": [
    {
     "data": {
      "text/markdown": [
       "![UMAP](data/interim/adhoc/ATAC-integration/umap-rlsi-anchors-only.svg)"
      ],
      "text/plain": [
       "<IPython.core.display.Markdown object>"
      ]
     },
     "metadata": {},
     "output_type": "display_data"
    }
   ],
   "source": [
    "md = '''![UMAP](data/interim/adhoc/ATAC-integration/umap-rlsi-anchors-only.svg)'''\n",
    "display(Markdown(md))"
   ]
  },
  {
   "cell_type": "markdown",
   "id": "92af0430-9a3e-4ee0-8cee-f9f3b2a2f44c",
   "metadata": {
    "slideshow": {
     "slide_type": "slide"
    },
    "tags": []
   },
   "source": [
    "### Harmony"
   ]
  },
  {
   "cell_type": "code",
   "execution_count": 34,
   "id": "46c9231f-b83a-4430-b607-b850061ca61e",
   "metadata": {
    "slideshow": {
     "slide_type": "slide"
    },
    "tags": []
   },
   "outputs": [
    {
     "data": {
      "text/markdown": [
       "![UMAP](data/interim/adhoc/ATAC-integration/umap-harmony.svg)"
      ],
      "text/plain": [
       "<IPython.core.display.Markdown object>"
      ]
     },
     "metadata": {},
     "output_type": "display_data"
    }
   ],
   "source": [
    "md = '''![UMAP](data/interim/adhoc/ATAC-integration/umap-harmony.svg)'''\n",
    "display(Markdown(md))"
   ]
  },
  {
   "cell_type": "code",
   "execution_count": 37,
   "id": "f75ec8c3-9f56-4ef1-8343-65831875099e",
   "metadata": {
    "slideshow": {
     "slide_type": "slide"
    },
    "tags": []
   },
   "outputs": [
    {
     "data": {
      "text/markdown": [
       "### Unintegrated\n",
       "![UMAP](data/interim/adhoc/ATAC-integration/python/umap-aggregated.svg)\n"
      ],
      "text/plain": [
       "<IPython.core.display.Markdown object>"
      ]
     },
     "metadata": {},
     "output_type": "display_data"
    }
   ],
   "source": [
    "md = '''### Unintegrated\n",
    "![UMAP](data/interim/adhoc/ATAC-integration/python/umap-aggregated.svg)\n",
    "'''\n",
    "display(Markdown(md))"
   ]
  },
  {
   "cell_type": "code",
   "execution_count": 38,
   "id": "7b57792e-f8b0-4cf6-b6c0-bd213534e411",
   "metadata": {
    "slideshow": {
     "slide_type": "slide"
    },
    "tags": []
   },
   "outputs": [
    {
     "data": {
      "text/markdown": [
       "### Partial PCA\n",
       "![UMAP](data/interim/adhoc/ATAC-integration/python/umap-pPCA.svg)\n"
      ],
      "text/plain": [
       "<IPython.core.display.Markdown object>"
      ]
     },
     "metadata": {},
     "output_type": "display_data"
    }
   ],
   "source": [
    "md = '''### Partial PCA\n",
    "![UMAP](data/interim/adhoc/ATAC-integration/python/umap-pPCA.svg)\n",
    "'''\n",
    "display(Markdown(md))"
   ]
  },
  {
   "cell_type": "code",
   "execution_count": 39,
   "id": "ed02b15d-5818-463b-9501-16c6f24d907c",
   "metadata": {
    "slideshow": {
     "slide_type": "slide"
    },
    "tags": []
   },
   "outputs": [
    {
     "data": {
      "text/markdown": [
       "### kNN-based Projection\n",
       "![UMAP](data/interim/adhoc/ATAC-integration/python/umap-projection-scarf.svg)\n",
       "\n",
       "This looks not good at all, however not entirely unprobable there is something I overlooked. Nevertheless, the Harmony results looks good enough that I think we should go forward with that.\n"
      ],
      "text/plain": [
       "<IPython.core.display.Markdown object>"
      ]
     },
     "metadata": {},
     "output_type": "display_data"
    }
   ],
   "source": [
    "md = '''### kNN-based Projection\n",
    "![UMAP](data/interim/adhoc/ATAC-integration/python/umap-projection-scarf.svg)\n",
    "\n",
    "This looks not good at all, however not entirely unprobable there is something I overlooked. Nevertheless, the Harmony results looks good enough that I think we should go forward with that.\n",
    "'''\n",
    "display(Markdown(md))"
   ]
  },
  {
   "cell_type": "markdown",
   "id": "b9d58a98-88cb-4b5f-ac3f-673be3c116b8",
   "metadata": {
    "slideshow": {
     "slide_type": "slide"
    },
    "tags": []
   },
   "source": [
    "### Discussion\n",
    "\n",
    "Similarly to for the RNA data, I think Harmony gave the best result, and is what we should move forward with."
   ]
  },
  {
   "cell_type": "markdown",
   "id": "617193bd-39c1-4dc9-80aa-6e3f199b10a5",
   "metadata": {
    "slideshow": {
     "slide_type": "slide"
    },
    "tags": []
   },
   "source": [
    "![UMAP](data/interim/adhoc/ATAC-integration/umap-harmony.svg)"
   ]
  },
  {
   "cell_type": "markdown",
   "id": "7c73aeb3-b9c2-4c07-824d-c22987c3d3c4",
   "metadata": {
    "slideshow": {
     "slide_type": "slide"
    },
    "tags": []
   },
   "source": [
    "by Rasmus Olofzon\n",
    "---"
   ]
  },
  {
   "cell_type": "code",
   "execution_count": 12,
   "id": "9b90d04e-66b6-433c-b8ce-50411d62bb60",
   "metadata": {
    "slideshow": {
     "slide_type": "skip"
    },
    "tags": []
   },
   "outputs": [
    {
     "name": "stdout",
     "output_type": "stream",
     "text": [
      "{'TagRemovePreprocessor': {'remove_input_tags': <LazyConfigValue {'extend': ['to_remove']}>}, 'SlidesExporter': {'reveal_theme': 'serif', 'reveal_number': 'c/t', 'reveal_scroll': True, 'reveal_transition': 'slide', 'theme': 'light'}}\n",
      "['__class__', '__class_getitem__', '__contains__', '__copy__', '__deepcopy__', '__delattr__', '__delitem__', '__dict__', '__dir__', '__doc__', '__eq__', '__format__', '__ge__', '__getattr__', '__getattribute__', '__getitem__', '__gt__', '__hash__', '__init__', '__init_subclass__', '__ior__', '__iter__', '__le__', '__len__', '__lt__', '__module__', '__ne__', '__new__', '__or__', '__reduce__', '__reduce_ex__', '__repr__', '__reversed__', '__ror__', '__setattr__', '__setitem__', '__sizeof__', '__str__', '__subclasshook__', '__weakref__', '_ensure_subconfig', '_has_section', '_merge', 'clear', 'collisions', 'copy', 'fromkeys', 'get', 'has_key', 'items', 'keys', 'merge', 'pop', 'popitem', 'setdefault', 'update', 'values']\n",
      "<class 'traitlets.config.loader.Config'>\n",
      "[NbConvertApp] WARNING | Config option `reveal_number` not recognized by `SlidesExporter`.  Did you mean one of: `reveal_scroll, reveal_theme, reveal_url_prefix`?\n",
      "[NbConvertApp] Converting notebook DB_Qinyu_multiome-2nd-integration.ipynb to slides\n",
      "[NbConvertApp] Writing 4387855 bytes to DB_Qinyu_multiome-2nd-integration.slides.html\n"
     ]
    }
   ],
   "source": [
    "#!jupyter nbconvert --to slides DB_Qinyu_multiome-2nd-integration.ipynb --config slides-config.py"
   ]
  },
  {
   "cell_type": "code",
   "execution_count": 34,
   "id": "8f62cd21-22f1-4539-a802-e7a64545f974",
   "metadata": {
    "slideshow": {
     "slide_type": "skip"
    },
    "tags": []
   },
   "outputs": [],
   "source": [
    "#!jupyter nbconvert --to slides DB_Qinyu_multiome-2nd-integration.ipynb --config slides-config.py --post serve\n",
    "# and add `?print-pdf` to url, then print to pdf file"
   ]
  }
 ],
 "metadata": {
  "kernelspec": {
   "display_name": "Python 3 (ipykernel)",
   "language": "python",
   "name": "python3"
  },
  "language_info": {
   "codemirror_mode": {
    "name": "ipython",
    "version": 3
   },
   "file_extension": ".py",
   "mimetype": "text/x-python",
   "name": "python",
   "nbconvert_exporter": "python",
   "pygments_lexer": "ipython3",
   "version": "3.9.7"
  }
 },
 "nbformat": 4,
 "nbformat_minor": 5
}
