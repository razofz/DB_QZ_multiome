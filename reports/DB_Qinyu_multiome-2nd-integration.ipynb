{
 "cells": [
  {
   "cell_type": "code",
   "execution_count": 4,
   "id": "81aca22a-8759-4c69-93b1-ff58148c2761",
   "metadata": {
    "slideshow": {
     "slide_type": "skip"
    },
    "tags": []
   },
   "outputs": [],
   "source": [
    "from IPython.core.interactiveshell import InteractiveShell\n",
    "InteractiveShell.ast_node_interactivity = \"all\"\n",
    "from IPython.display import Image\n",
    "from IPython.core.display import SVG\n",
    "from IPython.display import display, Markdown"
   ]
  },
  {
   "cell_type": "code",
   "execution_count": 5,
   "id": "4a478f31-1d76-4261-8f78-2df3426c2089",
   "metadata": {
    "slideshow": {
     "slide_type": "skip"
    },
    "tags": []
   },
   "outputs": [],
   "source": [
    "import pandas as pd\n",
    "import os"
   ]
  },
  {
   "cell_type": "markdown",
   "id": "bb49f832-d2ea-4204-8cb4-1eb675a98309",
   "metadata": {
    "slideshow": {
     "slide_type": "slide"
    },
    "tags": []
   },
   "source": [
    "# Multiome data (RNA+ATAC), Qinyu Zhang @ David Bryder lab\n",
    "\n",
    "Meeting 2022-02-08"
   ]
  },
  {
   "cell_type": "markdown",
   "id": "504d6375-baea-4a6b-b710-b22966b7483d",
   "metadata": {
    "slideshow": {
     "slide_type": "slide"
    },
    "tags": []
   },
   "source": [
    "hello"
   ]
  },
  {
   "cell_type": "code",
   "execution_count": 2,
   "id": "d375a618-dca3-4391-8caa-6906069852f4",
   "metadata": {
    "slideshow": {
     "slide_type": "skip"
    },
    "tags": []
   },
   "outputs": [
    {
     "name": "stdout",
     "output_type": "stream",
     "text": [
      "\u001b[0m\u001b[01;34mcounts_GFP_EPCR_LSKs_RNA.zarr\u001b[0m/\n",
      "\u001b[01;34mcounts_GFP_Viable_RNA.zarr\u001b[0m/\n",
      "\u001b[01;35mEPCR-umap-cc-scores.svg\u001b[0m\n",
      "\u001b[01;35mEPCR-umap-cc.svg\u001b[0m\n",
      "\u001b[01;35mEPCR-umap-clusters.svg\u001b[0m\n",
      "ipy-history\n",
      "ipy-history-w-outputs\n",
      "\u001b[01;34mmultiome.zarr\u001b[0m/\n",
      "\u001b[01;35mpumap_cc_scores.svg\u001b[0m\n",
      "\u001b[01;35mpumap-cc.svg\u001b[0m\n",
      "\u001b[01;34mR\u001b[0m/\n",
      "\u001b[01;35mtotal-umap-cc.svg\u001b[0m\n",
      "\u001b[01;35mtotal-umap-clusters.svg\u001b[0m\n",
      "\u001b[01;35mumap2.svg\u001b[0m\n",
      "\u001b[01;35mumap-atac-aggr-cc-phase.svg\u001b[0m\n",
      "\u001b[01;35mumap-atac-aggr-origin.svg\u001b[0m\n",
      "\u001b[01;35mumap-atac-aggr.svg\u001b[0m\n",
      "\u001b[01;35mumap-cc.svg\u001b[0m\n",
      "\u001b[01;35mumap_origin.svg\u001b[0m\n",
      "\u001b[01;35mumap-partial-pca-clusters.svg\u001b[0m\n",
      "\u001b[01;35mumap-partial-pca.svg\u001b[0m\n",
      "\u001b[01;35mumap.svg\u001b[0m\n",
      "\u001b[01;35munified-umap-EPCR-transferred-labels-from-total.svg\u001b[0m\n",
      "\u001b[01;35munified-umap-EPCR-w-EPCR-clusters.svg\u001b[0m\n",
      "\u001b[01;35munified-umap.svg\u001b[0m\n",
      "\u001b[01;35munified-umap-total-w-total-clusters.svg\u001b[0m\n"
     ]
    }
   ],
   "source": [
    "ls data/interim/adhoc"
   ]
  },
  {
   "cell_type": "markdown",
   "id": "30e35f51-6b5e-40c5-a7da-78d3f98e3a89",
   "metadata": {
    "slideshow": {
     "slide_type": "slide"
    },
    "tags": []
   },
   "source": [
    "## Focus on integration\n",
    "\n",
    "Focus on integrating/merging the two samples, agreed upon in our meeting last week."
   ]
  },
  {
   "cell_type": "markdown",
   "id": "7cca266d-7927-4dc6-9b3f-40b55c10824f",
   "metadata": {
    "slideshow": {
     "slide_type": "fragment"
    },
    "tags": []
   },
   "source": [
    "The two samples:\n",
    "\n",
    "1. EPCR\n",
    "2. Total (aka Viable_RNA)"
   ]
  },
  {
   "cell_type": "markdown",
   "id": "4a00c2f3-9252-432a-a442-a5b875c4b54e",
   "metadata": {
    "slideshow": {
     "slide_type": "slide"
    },
    "tags": []
   },
   "source": [
    "There are two conceptual approaches to integrating these multi-modal data."
   ]
  },
  {
   "cell_type": "markdown",
   "id": "a18367a3-9e29-48cf-95fd-41c73abb7079",
   "metadata": {
    "slideshow": {
     "slide_type": "fragment"
    },
    "tags": []
   },
   "source": [
    "- Modality-based\n",
    "    - Integrate the samples modality-wise\n",
    "    - (EPCR RNA with Total RNA, and EPCR ATAC with Total ATAC)\n",
    "    - then integrate the result's modalities (RNA & ATAC) with each other.\n",
    "    - (joint-RNA with joint-ATAC)"
   ]
  },
  {
   "cell_type": "markdown",
   "id": "58c5c29f-8d1f-475a-acc6-903db3d01e5e",
   "metadata": {
    "slideshow": {
     "slide_type": "fragment"
    },
    "tags": []
   },
   "source": [
    "- Sample-based\n",
    "    - Integrate the modalities sample-wise,\n",
    "    - (EPCR RNA with EPCR ATAC, and Total RNA with Total ATAC)\n",
    "    - and then integrate the two samples with each other.\n",
    "    - (EPCR-joint with Total-joint)"
   ]
  },
  {
   "cell_type": "markdown",
   "id": "117f4ac7-8085-43df-bf52-00d5de8e1417",
   "metadata": {
    "slideshow": {
     "slide_type": "fragment"
    },
    "tags": []
   },
   "source": [
    "For now I went with the first approach, modality-based. Specifically, integrating EPCR RNA with Total RNA."
   ]
  },
  {
   "cell_type": "code",
   "execution_count": null,
   "id": "d2c44818-bbb5-49b3-94ce-5c27b25e2104",
   "metadata": {
    "slideshow": {
     "slide_type": "slide"
    },
    "tags": []
   },
   "outputs": [
    {
     "data": {
      "text/markdown": [
       "### Not yet integrated (baseline/starting point)\n",
       "![UMAP](data/interim/adhoc/umap_origin.svg)"
      ],
      "text/plain": [
       "<IPython.core.display.Markdown object>"
      ]
     },
     "metadata": {},
     "output_type": "display_data"
    }
   ],
   "source": [
    "md = '''### Not yet integrated (baseline/starting point)\n",
    "![UMAP](data/interim/adhoc/umap_origin.svg)'''\n",
    "display(Markdown(md))"
   ]
  },
  {
   "cell_type": "markdown",
   "id": "3784d3b2-368d-49c8-a031-62af674db8db",
   "metadata": {
    "slideshow": {
     "slide_type": "slide"
    },
    "tags": []
   },
   "source": [
    "I tried a couple of approaches:"
   ]
  },
  {
   "cell_type": "markdown",
   "id": "27b60afd-8e93-4437-a8db-737bfd466dee",
   "metadata": {
    "slideshow": {
     "slide_type": "fragment"
    },
    "tags": []
   },
   "source": [
    "- Integration through projection (EPCR on total)"
   ]
  },
  {
   "cell_type": "markdown",
   "id": "6fdfbc2c-1ab1-48f1-8266-adc7f5932bdc",
   "metadata": {
    "slideshow": {
     "slide_type": "fragment"
    },
    "tags": []
   },
   "source": [
    "- Integration through Partial PCA"
   ]
  },
  {
   "cell_type": "markdown",
   "id": "7df08345-b132-4747-a5aa-a87e282bed67",
   "metadata": {
    "slideshow": {
     "slide_type": "fragment"
    },
    "tags": []
   },
   "source": [
    "- Integration with Harmony"
   ]
  },
  {
   "cell_type": "code",
   "execution_count": 30,
   "id": "f75ec8c3-9f56-4ef1-8343-65831875099e",
   "metadata": {
    "slideshow": {
     "slide_type": "slide"
    },
    "tags": []
   },
   "outputs": [
    {
     "data": {
      "text/markdown": [
       "### Partial PCA\n",
       "![UMAP](data/interim/adhoc/umap-partial-pca.svg)\n",
       "\n",
       "Not very good. Barely merged."
      ],
      "text/plain": [
       "<IPython.core.display.Markdown object>"
      ]
     },
     "metadata": {},
     "output_type": "display_data"
    }
   ],
   "source": [
    "md = '''### Partial PCA\n",
    "![UMAP](data/interim/adhoc/umap-partial-pca.svg)\n",
    "\n",
    "Not very good. Barely merged.'''\n",
    "display(Markdown(md))"
   ]
  },
  {
   "cell_type": "code",
   "execution_count": 33,
   "id": "669cdf97-cdf6-4886-9a4f-5c1929e4490d",
   "metadata": {
    "slideshow": {
     "slide_type": "subslide"
    },
    "tags": []
   },
   "outputs": [
    {
     "data": {
      "text/markdown": [
       "#### Partial PCA, clustering\n",
       "![UMAP](data/interim/adhoc/umap-partial-pca-clusters.svg)"
      ],
      "text/plain": [
       "<IPython.core.display.Markdown object>"
      ]
     },
     "metadata": {},
     "output_type": "display_data"
    }
   ],
   "source": [
    "md = '''#### Partial PCA, clustering\n",
    "![UMAP](data/interim/adhoc/umap-partial-pca-clusters.svg)'''\n",
    "display(Markdown(md))"
   ]
  },
  {
   "cell_type": "code",
   "execution_count": 32,
   "id": "f747777d-f290-4792-b97c-02390949a029",
   "metadata": {
    "slideshow": {
     "slide_type": "subslide"
    },
    "tags": []
   },
   "outputs": [
    {
     "data": {
      "text/markdown": [
       "#### Cell cycle stage\n",
       "![UMAP](data/interim/adhoc/pumap-cc.svg)"
      ],
      "text/plain": [
       "<IPython.core.display.Markdown object>"
      ]
     },
     "metadata": {},
     "output_type": "display_data"
    }
   ],
   "source": [
    "md = '''#### Cell cycle stage\n",
    "![UMAP](data/interim/adhoc/pumap-cc.svg)'''\n",
    "display(Markdown(md))"
   ]
  },
  {
   "cell_type": "code",
   "execution_count": 27,
   "id": "dbb822f6-a3c5-433c-ad89-665dfddf32d7",
   "metadata": {
    "slideshow": {
     "slide_type": "slide"
    },
    "tags": []
   },
   "outputs": [
    {
     "data": {
      "text/markdown": [
       "### Projection (scarf), \"unified UMAP\"\n",
       "![UMAP](data/interim/adhoc/unified-umap.svg)"
      ],
      "text/plain": [
       "<IPython.core.display.Markdown object>"
      ]
     },
     "metadata": {},
     "output_type": "display_data"
    }
   ],
   "source": [
    "md = '''### Projection (scarf), \"unified UMAP\"\n",
    "![UMAP](data/interim/adhoc/unified-umap.svg)'''\n",
    "display(Markdown(md))"
   ]
  },
  {
   "cell_type": "code",
   "execution_count": 26,
   "id": "2a01f35c-2e9f-4c8e-81ca-0c5ca6fb6e7a",
   "metadata": {
    "slideshow": {
     "slide_type": "subslide"
    },
    "tags": []
   },
   "outputs": [
    {
     "data": {
      "text/markdown": [
       "#### Unified UMAP with Total clusters\n",
       "![UMAP](data/interim/adhoc/unified-umap-total-w-total-clusters.svg)"
      ],
      "text/plain": [
       "<IPython.core.display.Markdown object>"
      ]
     },
     "metadata": {},
     "output_type": "display_data"
    }
   ],
   "source": [
    "md = '''#### Unified UMAP with Total clusters\n",
    "![UMAP](data/interim/adhoc/unified-umap-total-w-total-clusters.svg)'''\n",
    "display(Markdown(md))"
   ]
  },
  {
   "cell_type": "code",
   "execution_count": 29,
   "id": "7732e355-c248-49d2-9133-886724ee6a11",
   "metadata": {
    "slideshow": {
     "slide_type": "subslide"
    },
    "tags": []
   },
   "outputs": [
    {
     "data": {
      "text/markdown": [
       "#### Unified UMAP with Total clusters, only EPCR cells shown\n",
       "![UMAP](data/interim/adhoc/unified-umap-EPCR-transferred-labels-from-total.svg)"
      ],
      "text/plain": [
       "<IPython.core.display.Markdown object>"
      ]
     },
     "metadata": {},
     "output_type": "display_data"
    }
   ],
   "source": [
    "md = '''#### Unified UMAP with Total clusters, only EPCR cells shown\n",
    "![UMAP](data/interim/adhoc/unified-umap-EPCR-transferred-labels-from-total.svg)'''\n",
    "display(Markdown(md))"
   ]
  },
  {
   "cell_type": "code",
   "execution_count": 31,
   "id": "fb1064bf-b8aa-42f4-a6a5-48786b2bd9f5",
   "metadata": {
    "slideshow": {
     "slide_type": "slide"
    },
    "tags": []
   },
   "outputs": [
    {
     "data": {
      "text/markdown": [
       "### Harmony\n",
       "![UMAP](data/interim/adhoc/R/umap-harmony-integrated.svg)"
      ],
      "text/plain": [
       "<IPython.core.display.Markdown object>"
      ]
     },
     "metadata": {},
     "output_type": "display_data"
    }
   ],
   "source": [
    "md = '''### Harmony\n",
    "![UMAP](data/interim/adhoc/R/umap-harmony-integrated.svg)'''\n",
    "display(Markdown(md))"
   ]
  },
  {
   "cell_type": "markdown",
   "id": "b9d58a98-88cb-4b5f-ac3f-673be3c116b8",
   "metadata": {
    "slideshow": {
     "slide_type": "slide"
    },
    "tags": []
   },
   "source": [
    "### Discussion\n",
    "\n",
    "Projection gave a more evenly distribution of EPCR cells over Total cells, while Harmony placed them mostly to one end of the data. Biologically, this seems to make more sense than from the projection approach, considering that EPCR cells should be mostly immature cells while Total should be more diverse. Based on this, I would say we go with Harmony."
   ]
  },
  {
   "cell_type": "markdown",
   "id": "636bccce-fd23-4127-af9f-cd0b27b355f9",
   "metadata": {
    "slideshow": {
     "slide_type": "fragment"
    },
    "tags": []
   },
   "source": [
    "Of course, there are a lot of integration methods (and also conceptual approaches as I mentioned before). We can try others, but from our discussions so far I think the Harmony result align with the biological interpretation, which should be good to base further analysis on."
   ]
  },
  {
   "cell_type": "markdown",
   "id": "7c73aeb3-b9c2-4c07-824d-c22987c3d3c4",
   "metadata": {
    "slideshow": {
     "slide_type": "slide"
    },
    "tags": []
   },
   "source": [
    "---"
   ]
  },
  {
   "cell_type": "code",
   "execution_count": 12,
   "id": "9b90d04e-66b6-433c-b8ce-50411d62bb60",
   "metadata": {
    "slideshow": {
     "slide_type": "skip"
    },
    "tags": []
   },
   "outputs": [
    {
     "name": "stdout",
     "output_type": "stream",
     "text": [
      "{'TagRemovePreprocessor': {'remove_input_tags': <LazyConfigValue {'extend': ['to_remove']}>}, 'SlidesExporter': {'reveal_theme': 'serif', 'reveal_number': 'c/t', 'reveal_scroll': True, 'reveal_transition': 'slide', 'theme': 'light'}}\n",
      "['__class__', '__class_getitem__', '__contains__', '__copy__', '__deepcopy__', '__delattr__', '__delitem__', '__dict__', '__dir__', '__doc__', '__eq__', '__format__', '__ge__', '__getattr__', '__getattribute__', '__getitem__', '__gt__', '__hash__', '__init__', '__init_subclass__', '__ior__', '__iter__', '__le__', '__len__', '__lt__', '__module__', '__ne__', '__new__', '__or__', '__reduce__', '__reduce_ex__', '__repr__', '__reversed__', '__ror__', '__setattr__', '__setitem__', '__sizeof__', '__str__', '__subclasshook__', '__weakref__', '_ensure_subconfig', '_has_section', '_merge', 'clear', 'collisions', 'copy', 'fromkeys', 'get', 'has_key', 'items', 'keys', 'merge', 'pop', 'popitem', 'setdefault', 'update', 'values']\n",
      "<class 'traitlets.config.loader.Config'>\n",
      "[NbConvertApp] WARNING | Config option `reveal_number` not recognized by `SlidesExporter`.  Did you mean one of: `reveal_scroll, reveal_theme, reveal_url_prefix`?\n",
      "[NbConvertApp] Converting notebook DB_Qinyu_multiome-2nd-integration.ipynb to slides\n",
      "[NbConvertApp] Writing 4387855 bytes to DB_Qinyu_multiome-2nd-integration.slides.html\n"
     ]
    }
   ],
   "source": [
    "#!jupyter nbconvert --to slides DB_Qinyu_multiome-2nd-integration.ipynb --config slides-config.py"
   ]
  },
  {
   "cell_type": "code",
   "execution_count": 34,
   "id": "8f62cd21-22f1-4539-a802-e7a64545f974",
   "metadata": {},
   "outputs": [],
   "source": [
    "#!jupyter nbconvert --to slides DB_Qinyu_multiome-2nd-integration.ipynb --config slides-config.py --post serve\n",
    "# and add `?print-pdf` to url, then print to pdf file"
   ]
  }
 ],
 "metadata": {
  "kernelspec": {
   "display_name": "Python 3 (ipykernel)",
   "language": "python",
   "name": "python3"
  },
  "language_info": {
   "codemirror_mode": {
    "name": "ipython",
    "version": 3
   },
   "file_extension": ".py",
   "mimetype": "text/x-python",
   "name": "python",
   "nbconvert_exporter": "python",
   "pygments_lexer": "ipython3",
   "version": "3.9.7"
  }
 },
 "nbformat": 4,
 "nbformat_minor": 5
}
